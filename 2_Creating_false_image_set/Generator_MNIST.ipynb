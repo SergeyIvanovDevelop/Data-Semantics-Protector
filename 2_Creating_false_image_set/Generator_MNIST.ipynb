{
  "cells": [
    {
      "cell_type": "code",
      "execution_count": 1,
      "metadata": {
        "colab": {
          "base_uri": "https://localhost:8080/",
          "height": 308
        },
        "id": "-cklWi6MO0aY",
        "outputId": "14745207-4c26-463b-c769-31a088615fbe"
      },
      "outputs": [
        {
          "name": "stdout",
          "output_type": "stream",
          "text": [
            "Collecting git+https://www.github.com/keras-team/keras-contrib.git\n",
            "  Cloning https://www.github.com/keras-team/keras-contrib.git to /tmp/pip-req-build-az9c1aha\n",
            "  Running command git clone -q https://www.github.com/keras-team/keras-contrib.git /tmp/pip-req-build-az9c1aha\n",
            "Requirement already satisfied (use --upgrade to upgrade): keras-contrib==2.0.8 from git+https://www.github.com/keras-team/keras-contrib.git in /usr/local/lib/python3.6/dist-packages\n",
            "Requirement already satisfied: keras in /usr/local/lib/python3.6/dist-packages (from keras-contrib==2.0.8) (2.4.3)\n",
            "Requirement already satisfied: pyyaml in /usr/local/lib/python3.6/dist-packages (from keras->keras-contrib==2.0.8) (3.13)\n",
            "Requirement already satisfied: scipy>=0.14 in /usr/local/lib/python3.6/dist-packages (from keras->keras-contrib==2.0.8) (1.4.1)\n",
            "Requirement already satisfied: h5py in /usr/local/lib/python3.6/dist-packages (from keras->keras-contrib==2.0.8) (2.10.0)\n",
            "Requirement already satisfied: numpy>=1.9.1 in /usr/local/lib/python3.6/dist-packages (from keras->keras-contrib==2.0.8) (1.18.5)\n",
            "Requirement already satisfied: six in /usr/local/lib/python3.6/dist-packages (from h5py->keras->keras-contrib==2.0.8) (1.15.0)\n",
            "Building wheels for collected packages: keras-contrib\n",
            "  Building wheel for keras-contrib (setup.py) ... \u001b[?25l\u001b[?25hdone\n",
            "  Created wheel for keras-contrib: filename=keras_contrib-2.0.8-cp36-none-any.whl size=101066 sha256=af4044fd7aaaa6abdb94774abcae55c0f13d4e04d30b4be8e56d199eb9cc5c3d\n",
            "  Stored in directory: /tmp/pip-ephem-wheel-cache-sdupa4rc/wheels/11/27/c8/4ed56de7b55f4f61244e2dc6ef3cdbaff2692527a2ce6502ba\n",
            "Successfully built keras-contrib\n",
            "Requirement already satisfied: pillow in /usr/local/lib/python3.6/dist-packages (7.0.0)\n"
          ]
        }
      ],
      "source": [
        "#@title\n",
        "!pip install git+https://www.github.com/keras-team/keras-contrib.git\n",
        "!pip install pillow"
      ]
    },
    {
      "cell_type": "code",
      "execution_count": 2,
      "metadata": {
        "id": "qDFP0OaZQBRO"
      },
      "outputs": [],
      "source": [
        "from __future__ import print_function, division\n",
        "import scipy\n",
        "\n",
        "from keras.datasets import mnist\n",
        "from keras_contrib.layers.normalization.instancenormalization import InstanceNormalization\n",
        "from keras.layers import Input, Dense, Reshape, Flatten, Dropout, Concatenate\n",
        "from keras.layers import BatchNormalization, Activation, ZeroPadding2D\n",
        "from keras.layers.advanced_activations import LeakyReLU\n",
        "from keras.layers.convolutional import UpSampling2D, Conv2D\n",
        "from keras.models import Sequential, Model\n",
        "from keras.optimizers import Adam\n",
        "import datetime\n",
        "import matplotlib.pyplot as plt\n",
        "import sys\n",
        "import numpy as np\n",
        "import os"
      ]
    },
    {
      "cell_type": "code",
      "execution_count": 3,
      "metadata": {
        "id": "_GvM5wvRPzO_"
      },
      "outputs": [],
      "source": [
        "import imageio\n",
        "from skimage.transform import resize\n",
        "from PIL import Image"
      ]
    },
    {
      "cell_type": "code",
      "execution_count": 4,
      "metadata": {
        "colab": {
          "base_uri": "https://localhost:8080/",
          "height": 35
        },
        "id": "w3d7gZfIP0EN",
        "outputId": "537deb8b-c630-4568-c82f-b793cb815972"
      },
      "outputs": [
        {
          "name": "stdout",
          "output_type": "stream",
          "text": [
            "Drive already mounted at /content/drive/; to attempt to forcibly remount, call drive.mount(\"/content/drive/\", force_remount=True).\n"
          ]
        }
      ],
      "source": [
        "from google.colab import drive \n",
        "drive.mount('/content/drive/')\n",
        "root_dir = '/content/drive/My Drive/Colab Notebooks/'"
      ]
    },
    {
      "cell_type": "code",
      "execution_count": 5,
      "metadata": {
        "id": "RS5BDjAKPoKx"
      },
      "outputs": [],
      "source": [
        "import scipy\n",
        "from glob import glob\n",
        "import numpy as np\n",
        "import matplotlib.pyplot as plt\n",
        "from matplotlib import cm\n",
        "class DataLoader():\n",
        "    def __init__(self, dataset_name, data_type, img_res=(64, 64)): #128, 128\n",
        "        self.dataset_name = dataset_name\n",
        "        self.data_type = data_type\n",
        "        self.img_res = img_res\n",
        "        \n",
        "    def load_data(self, batch_size=1, is_testing=False):\n",
        "        path = glob('/content/drive/My Drive/Colab Notebooks/datasets/%s/%s/*' % (self.dataset_name, self.data_type))\n",
        "        batch_images = np.random.choice(path, size=batch_size)\n",
        "        imgs_A = []\n",
        "        imgs_B = []\n",
        "        for img_path in batch_images:\n",
        "            img = self.imread(img_path)\n",
        "            img_np = np.array(img)/255\n",
        "            h, w, _ = img_np.shape\n",
        "            _w = int(w/2)\n",
        "            img_A, img_B = img_np[:, :_w, :], img_np[:, _w:, :]\n",
        "\n",
        "            img_A = img_A * 255\n",
        "            img_A = img_A.astype(np.uint8)\n",
        "            img_A = Image.fromarray(img_A)\n",
        "\n",
        "            img_B = img_B * 255\n",
        "            img_B = img_B.astype(np.uint8)\n",
        "            img_B = Image.fromarray(img_B)\n",
        "\n",
        "            img_A = img_A.resize((self.img_res))\n",
        "            img_B = img_B.resize((self.img_res))\n",
        "\n",
        "            img_A = np.array(img_A)*255\n",
        "            img_B = np.array(img_B)*255\n",
        "\n",
        "            # If training => do random flip\n",
        "            if not is_testing and np.random.random() < 0.5:\n",
        "                img_A = np.fliplr(img_A)\n",
        "                img_B = np.fliplr(img_B)\n",
        "\n",
        "            imgs_A.append(img_A)\n",
        "            imgs_B.append(img_B)\n",
        "\n",
        "        imgs_A = (np.array(imgs_A)*255)/127.5 - 1.\n",
        "        imgs_B = (np.array(imgs_B)*255)/127.5 - 1.\n",
        "\n",
        "        return imgs_B, imgs_A\n",
        "\n",
        "    def load_batch(self, batch_size=1, is_testing=False):\n",
        "        path = glob('/content/drive/My Drive/Colab Notebooks/datasets/%s/%s/*' % (self.dataset_name, self.data_type))\n",
        "        self.n_batches = int(len(path) / batch_size)\n",
        "        for i in range(self.n_batches-1):\n",
        "            batch = path[i*batch_size:(i+1)*batch_size]\n",
        "            imgs_A, imgs_B = [], []\n",
        "            for img in batch:\n",
        "                img = self.imread(img)\n",
        "                img_np = np.array(img)/255;\n",
        "\n",
        "                h, w, _ = img_np.shape\n",
        "                half_w = int(w/2)\n",
        "                img_A = img_np[:, :half_w, :]\n",
        "                img_B = img_np[:, half_w:, :]\n",
        "\n",
        "                img_A = img_A * 255\n",
        "                img_A = img_A.astype(np.uint8)\n",
        "                img_A = Image.fromarray(img_A)\n",
        "\n",
        "                img_B = img_B * 255\n",
        "                img_B = img_B.astype(np.uint8)\n",
        "                img_B = Image.fromarray(img_B)\n",
        "\n",
        "                img_A = img_A.resize((self.img_res))\n",
        "                img_B = img_B.resize((self.img_res))\n",
        "\n",
        "                img_A = np.array(img_A)*255\n",
        "                img_B = np.array(img_B)*255\n",
        "            \n",
        "                if not is_testing and np.random.random() > 0.5:\n",
        "                        img_A = np.fliplr(img_A)\n",
        "                        img_B = np.fliplr(img_B)\n",
        "\n",
        "                imgs_A.append(img_A)\n",
        "                imgs_B.append(img_B)\n",
        "\n",
        "            imgs_A = (np.array(imgs_A)*255)/127.5 - 1.\n",
        "            imgs_B = (np.array(imgs_B)*255)/127.5 - 1.\n",
        "\n",
        "            yield imgs_B, imgs_A\n",
        "\n",
        "    def imread(self, path):\n",
        "        im = Image.open(path)\n",
        "        return im.convert('RGB')"
      ]
    },
    {
      "cell_type": "code",
      "execution_count": 6,
      "metadata": {
        "id": "y9k_osi-SWcE"
      },
      "outputs": [],
      "source": [
        "path_to_g_model = \"/content/drive/My Drive/Colab Notebooks/datasets/turn_mnist/models/model_generator.h5\""
      ]
    },
    {
      "cell_type": "code",
      "execution_count": 7,
      "metadata": {
        "id": "KoE29DQWQgIJ"
      },
      "outputs": [],
      "source": [
        "from keras.models import load_model\n",
        "import keras_contrib"
      ]
    },
    {
      "cell_type": "code",
      "execution_count": 8,
      "metadata": {
        "id": "Ve7a0O3rR-j-"
      },
      "outputs": [],
      "source": [
        "g_model = load_model(path_to_g_model, custom_objects = {'InstanceNormalization': keras_contrib.layers.normalization.instancenormalization.InstanceNormalization}, compile=False)"
      ]
    },
    {
      "cell_type": "code",
      "execution_count": 9,
      "metadata": {
        "id": "FoXh4K3ySiNv"
      },
      "outputs": [],
      "source": [
        "dataset_name = 'turn_mnist_gen'\n",
        "data_type_1 = \"res_0_2\"\n",
        "data_type_2 = \"res_1_3\"\n",
        "img_rows = 128\n",
        "img_cols = 128\n",
        "channels = 3\n",
        "\n",
        "# Генерируем ложные \"2\" из реальных \"0\"\n",
        "data_loader = DataLoader(dataset_name=dataset_name, data_type = data_type_1,\n",
        "                                      img_res=(img_rows, img_cols) )\n",
        "\n",
        "for i in range(0,1000):\n",
        "    _, img_B = data_loader.load_data(batch_size=1, is_testing=True)\n",
        "    generated_A = g_model.predict(img_B)\n",
        "    generated_A_img = np.reshape(generated_A, (img_rows, img_cols, channels))  \n",
        "    img_to_save = generated_A_img * 255\n",
        "    img_to_save = img_to_save.astype(np.uint8)\n",
        "    img_to_save = Image.fromarray(img_to_save)\n",
        "    img_to_save.save( \"/content/drive/My Drive/Colab Notebooks/datasets/turn_mnist_gen/gen_2/2_%d.jpg\" % (i))\n",
        "\n",
        "# Генерируем ложные \"3\" из реальных \"1\"\n",
        "data_loader = DataLoader(dataset_name=dataset_name, data_type = data_type_2,\n",
        "                                      img_res=(img_rows, img_cols))\n",
        "\n",
        "for i in range(0,1000):\n",
        "    _, img_B = data_loader.load_data(batch_size=1, is_testing=True)\n",
        "    generated_A = g_model.predict(img_B)\n",
        "    generated_A_img = np.reshape(generated_A, (img_rows, img_cols, channels))     \n",
        "    img_to_save = generated_A_img * 255\n",
        "    img_to_save = img_to_save.astype(np.uint8)\n",
        "    img_to_save = Image.fromarray(img_to_save)\n",
        "    img_to_save.save( \"/content/drive/My Drive/Colab Notebooks/datasets/turn_mnist_gen/gen_3/3_%d.jpg\" % (i))    "
      ]
    },
    {
      "cell_type": "code",
      "execution_count": 10,
      "metadata": {
        "colab": {
          "base_uri": "https://localhost:8080/",
          "height": 35
        },
        "id": "FHeoVPSMYVx4",
        "outputId": "d309d2c2-b178-4f82-c4d1-c0800695d607"
      },
      "outputs": [
        {
          "name": "stdout",
          "output_type": "stream",
          "text": [
            "END_OF_PROGRAMM\n"
          ]
        }
      ],
      "source": [
        "print(\"END_OF_PROGRAMM\")"
      ]
    }
  ],
  "metadata": {
    "accelerator": "GPU",
    "colab": {
      "collapsed_sections": [],
      "name": "Generator_MNIST.ipynb",
      "provenance": []
    },
    "kernelspec": {
      "display_name": "Python 3",
      "name": "python3"
    }
  },
  "nbformat": 4,
  "nbformat_minor": 0
}
