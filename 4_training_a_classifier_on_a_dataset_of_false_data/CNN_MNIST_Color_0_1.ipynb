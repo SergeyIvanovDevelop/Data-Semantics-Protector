{
  "nbformat": 4,
  "nbformat_minor": 0,
  "metadata": {
    "colab": {
      "name": "CNN_MNIST_Color_0_1_ipynb_ (2).ipynb",
      "provenance": [],
      "collapsed_sections": []
    },
    "kernelspec": {
      "name": "python3",
      "display_name": "Python 3"
    },
    "accelerator": "GPU"
  },
  "cells": [
    {
      "cell_type": "code",
      "metadata": {
        "id": "BbeFjxoi4paP"
      },
      "source": [
        "import matplotlib.pyplot as plt\n",
        "import seaborn as sns\n",
        "import numpy as np\n",
        "sns.set(style=\"darkgrid\")"
      ],
      "execution_count": 1,
      "outputs": []
    },
    {
      "cell_type": "code",
      "metadata": {
        "id": "3TM0c3RU5EY7",
        "outputId": "1dc9e38e-731f-4423-a88d-701b977b0967",
        "colab": {
          "base_uri": "https://localhost:8080/",
          "height": 35
        }
      },
      "source": [
        "from google.colab import drive \n",
        "drive.mount('/content/drive/')"
      ],
      "execution_count": 2,
      "outputs": [
        {
          "output_type": "stream",
          "text": [
            "Mounted at /content/drive/\n"
          ],
          "name": "stdout"
        }
      ]
    },
    {
      "cell_type": "code",
      "metadata": {
        "id": "DfSfE12_7j2W"
      },
      "source": [
        "# Объявляем наши константы\n",
        "\n",
        "COUNT_VAR_IMG = 2000 # т.е. всего у нас будет 20 тысяч изображений\n",
        "IMG_HIGH = 32\n",
        "IMG_WEIGTH = 32\n",
        "IMG_COLOR_NUMBER = 3"
      ],
      "execution_count": 3,
      "outputs": []
    },
    {
      "cell_type": "code",
      "metadata": {
        "id": "IYxWaecK7vTv",
        "outputId": "2dd69be3-155b-4955-d276-fd40cf59e774",
        "colab": {
          "base_uri": "https://localhost:8080/",
          "height": 35
        }
      },
      "source": [
        "# Создаем наш 4D-массив. Назовем его Tensor_4D\n",
        "Tensor_4D = np.zeros((COUNT_VAR_IMG, IMG_HIGH, IMG_WEIGTH, IMG_COLOR_NUMBER),)\n",
        "\n",
        "print(Tensor_4D.shape)"
      ],
      "execution_count": 4,
      "outputs": [
        {
          "output_type": "stream",
          "text": [
            "(2000, 32, 32, 3)\n"
          ],
          "name": "stdout"
        }
      ]
    },
    {
      "cell_type": "code",
      "metadata": {
        "id": "m2LaYScA7xhm",
        "outputId": "fd04a39d-4b5b-4631-f204-7d40d582c872",
        "colab": {
          "base_uri": "https://localhost:8080/",
          "height": 35
        }
      },
      "source": [
        "# Создаем наш 2D-массив с метками классов (10 - это количество классов)\n",
        "Labels = np.zeros((COUNT_VAR_IMG,),)\n",
        "print(Labels.shape)"
      ],
      "execution_count": 5,
      "outputs": [
        {
          "output_type": "stream",
          "text": [
            "(2000,)\n"
          ],
          "name": "stdout"
        }
      ]
    },
    {
      "cell_type": "code",
      "metadata": {
        "id": "FNKL4Fja5IhI"
      },
      "source": [
        "# Считываем  из файла \".txt\" наш тензор\n",
        "\n",
        "f = open('/content/drive/My Drive/Colab Notebooks/datasets/turn_mnist_gen/data_set_real_data.txt', 'r')\n",
        "\n",
        "for s in range(COUNT_VAR_IMG):\n",
        "    for i in range(IMG_HIGH):\n",
        "        for j in range(IMG_WEIGTH):\n",
        "            for c in range(IMG_COLOR_NUMBER):\n",
        "                Tensor_4D[s][i][j][c] = np.float(f.readline())\n",
        "\n",
        "f.close()\n"
      ],
      "execution_count": 6,
      "outputs": []
    },
    {
      "cell_type": "code",
      "metadata": {
        "id": "V-MjvOLb7_d0"
      },
      "source": [
        "# Считаем метки из файл формата .txt\n",
        "f = open('/content/drive/My Drive/Colab Notebooks/datasets/turn_mnist_gen/data_set_real_labels.txt', 'r')\n",
        "\n",
        "for s in range(COUNT_VAR_IMG):\n",
        "    Labels[s] = np.float(f.readline())\n",
        "\n",
        "f.close()"
      ],
      "execution_count": 7,
      "outputs": []
    },
    {
      "cell_type": "code",
      "metadata": {
        "id": "H7y3yvda8J-K"
      },
      "source": [
        "# Т.к. у нас есть только тестовый набор данных, то нужно воспользоваться библиотекой sklearn для разбиения одного набора данных на обучающий и тестовый\n",
        "\n",
        "from sklearn.model_selection import train_test_split\n",
        "X_train, X_test, y_train, y_test = train_test_split(Tensor_4D, Labels, test_size = 0.25)\n"
      ],
      "execution_count": 8,
      "outputs": []
    },
    {
      "cell_type": "code",
      "metadata": {
        "id": "Vo2_ySxj-wb9"
      },
      "source": [
        "# Исправление типа данных на те, которые ожидает Keras (floatx)\n",
        "from keras import backend as keras_backend\n",
        "X_train = keras_backend.cast_to_floatx(X_train)\n",
        "X_test = keras_backend.cast_to_floatx(X_test)"
      ],
      "execution_count": 9,
      "outputs": []
    },
    {
      "cell_type": "code",
      "metadata": {
        "id": "HHcpk6qK9jqB"
      },
      "source": [
        "# Необходимо провести масштабирование (нормализацию) наших данных\n",
        "\n",
        "# Масштабирование наших пикселей из [0,255] в [-1,1]\n",
        "X_train = np.interp(X_train, [0,255], [-1,1])\n",
        "X_test = np.interp(X_test, [0,255], [-1,1])\n",
        "\n",
        "# Необходимо узнать сколько у нас всего классов (хоть мы и знаем, что их 10, лучше делать следующим образом)\n",
        "number_of_classes = 1 + max(np.append(y_train, y_test))\n",
        "\n",
        "# Сохранение оригинальных y_train и y_test\n",
        "original_y_train = y_train\n",
        "original_y_test = y_test\n",
        "\n",
        "# Кодирование каждого списка в массивы индивидуальных параметров\n",
        "from keras.utils import to_categorical\n",
        "y_train = to_categorical (y_train, num_classes = int(number_of_classes))\n",
        "y_test = to_categorical (y_test, num_classes = int(number_of_classes))\n",
        "\n",
        "\n",
        "# Теперь наши данные готовы к отправле в CNN Keras"
      ],
      "execution_count": 10,
      "outputs": []
    },
    {
      "cell_type": "code",
      "metadata": {
        "id": "AB-QjbIXBgwW"
      },
      "source": [
        "# Нам необходимо построить модель нашей CNN\n",
        "\n",
        "from tensorflow.python.keras.layers import Dense, Dropout, Activation, Flatten\n",
        "from tensorflow.python.keras import Sequential\n",
        "from tensorflow.python.keras.layers.convolutional import Conv2D, MaxPooling2D\n",
        "from tensorflow.python.keras.constraints import maxnorm\n",
        "from tensorflow.keras.optimizers import Adam, SGD, RMSprop\n",
        "from tensorflow.python.keras.utils import np_utils\n",
        "from tensorflow.python.keras.preprocessing.image import ImageDataGenerator\n",
        "\n",
        "\n",
        "# Напишем функцию построения нашей модели CNN Keras\n",
        "def make_bigger_cnn_model():\n",
        "  model = Sequential()\n",
        "  model.add(Conv2D(16,(5,5), activation = 'relu', padding = 'same', kernel_constraint = maxnorm(3), input_shape = (IMG_HIGH,IMG_WEIGTH,IMG_COLOR_NUMBER)))\n",
        "  model.add(Dropout(0.2))\n",
        "  model.add(Conv2D(8,(3,3), activation = 'relu', padding = 'same', kernel_constraint = maxnorm(3)))\n",
        "  model.add(Dropout(0.2))\n",
        "  model.add(Conv2D(8,(3,3), activation = 'relu', padding = 'same', kernel_constraint = maxnorm(3)))\n",
        "  model.add(Dropout(0.2))\n",
        "  model.add(Flatten())\n",
        "  model.add(Dense(number_of_classes,activation='softmax'))\n",
        "  model.compile(loss = 'categorical_crossentropy', optimizer = 'adam', metrics=['accuracy'])\n",
        "  return model\n",
        "\n",
        "# Напишем другую функцию построения модели MLP\n",
        "def make_simple_cnn_model():\n",
        "  model = Sequential()\n",
        "  model.add(Conv2D(32,(5,5), activation = 'relu', padding = 'same', kernel_constraint = maxnorm(3), input_shape = (IMG_HIGH,IMG_WEIGTH,IMG_COLOR_NUMBER)))\n",
        "  model.add(Flatten())\n",
        "  model.add(Dense(number_of_classes,activation='softmax'))\n",
        "  model.compile(loss = 'categorical_crossentropy', optimizer = 'adam', metrics=['accuracy'])\n",
        "  return model\n",
        "\n",
        "\n",
        "# Вызываем нашу функцию создания модели\n",
        "bigger_cnn_model = make_simple_cnn_model()  \n"
      ],
      "execution_count": 11,
      "outputs": []
    },
    {
      "cell_type": "code",
      "metadata": {
        "id": "WcCTPa7VIgue",
        "outputId": "492d3ed3-3b2a-41ac-96b3-ef9fab3dc9b4",
        "colab": {
          "base_uri": "https://localhost:8080/",
          "height": 381
        }
      },
      "source": [
        "# Начинаем тренировать модель\n",
        "bigger_cnn_history = bigger_cnn_model.fit(X_train,y_train, validation_data = (X_test, y_test), epochs=10, batch_size = 32, verbose = 1)"
      ],
      "execution_count": 12,
      "outputs": [
        {
          "output_type": "stream",
          "text": [
            "Epoch 1/10\n",
            "47/47 [==============================] - 1s 11ms/step - loss: 0.2742 - accuracy: 0.8993 - val_loss: 0.0504 - val_accuracy: 0.9900\n",
            "Epoch 2/10\n",
            "47/47 [==============================] - 0s 6ms/step - loss: 0.0568 - accuracy: 0.9847 - val_loss: 0.0398 - val_accuracy: 0.9920\n",
            "Epoch 3/10\n",
            "47/47 [==============================] - 0s 6ms/step - loss: 0.0417 - accuracy: 0.9893 - val_loss: 0.0389 - val_accuracy: 0.9940\n",
            "Epoch 4/10\n",
            "47/47 [==============================] - 0s 6ms/step - loss: 0.0338 - accuracy: 0.9927 - val_loss: 0.0521 - val_accuracy: 0.9860\n",
            "Epoch 5/10\n",
            "47/47 [==============================] - 0s 6ms/step - loss: 0.0290 - accuracy: 0.9940 - val_loss: 0.0375 - val_accuracy: 0.9860\n",
            "Epoch 6/10\n",
            "47/47 [==============================] - 0s 6ms/step - loss: 0.0240 - accuracy: 0.9933 - val_loss: 0.0403 - val_accuracy: 0.9920\n",
            "Epoch 7/10\n",
            "47/47 [==============================] - 0s 6ms/step - loss: 0.0204 - accuracy: 0.9933 - val_loss: 0.0423 - val_accuracy: 0.9900\n",
            "Epoch 8/10\n",
            "47/47 [==============================] - 0s 6ms/step - loss: 0.0166 - accuracy: 0.9933 - val_loss: 0.0374 - val_accuracy: 0.9880\n",
            "Epoch 9/10\n",
            "47/47 [==============================] - 0s 6ms/step - loss: 0.0101 - accuracy: 0.9973 - val_loss: 0.0432 - val_accuracy: 0.9860\n",
            "Epoch 10/10\n",
            "47/47 [==============================] - 0s 6ms/step - loss: 0.0063 - accuracy: 0.9987 - val_loss: 0.0381 - val_accuracy: 0.9900\n"
          ],
          "name": "stdout"
        }
      ]
    },
    {
      "cell_type": "code",
      "metadata": {
        "id": "n0356-twUCAy",
        "outputId": "35305049-bc80-47a5-a163-0364855af84f",
        "colab": {
          "base_uri": "https://localhost:8080/",
          "height": 54
        }
      },
      "source": [
        "results = bigger_cnn_model.evaluate(X_test, y_test, batch_size=32)\n",
        "print('Evaluate on fake \"2\" and \"3\" --> Loss, Accuracy:', results)"
      ],
      "execution_count": 13,
      "outputs": [
        {
          "output_type": "stream",
          "text": [
            "16/16 [==============================] - 0s 3ms/step - loss: 0.0381 - accuracy: 0.9900\n",
            "Evaluate on fake \"2\" and \"3\" --> Loss, Accuracy: [0.03814179077744484, 0.9900000095367432]\n"
          ],
          "name": "stdout"
        }
      ]
    },
    {
      "cell_type": "code",
      "metadata": {
        "id": "bEMUcQFBJdVH"
      },
      "source": [
        "# Сохраняем весов обученной сети\n",
        "bigger_cnn_model.save_weights('/content/drive/My Drive/Colab Notebooks/datasets/turn_mnist_gen/my_model_weigths.h5')\n",
        "\n",
        "# Сохранение архитектруы сети\n",
        "import yaml\n",
        "filename = '/content/drive/My Drive/Colab Notebooks/datasets/turn_mnist_gen/my_model_arch.yaml'\n",
        "yaml_string = bigger_cnn_model.to_yaml()\n",
        "with open(filename, 'w') as outfile:\n",
        "  yaml.dump(yaml_string, outfile)\n",
        "\n",
        "# Сохраняем сеть полностью (и веса, и архитектруа в одном файле)\n",
        "bigger_cnn_model.save('/content/drive/My Drive/Colab Notebooks/datasets/turn_mnist_gen/my_model.h5')  "
      ],
      "execution_count": 14,
      "outputs": []
    },
    {
      "cell_type": "code",
      "metadata": {
        "id": "okUIqMyWK3Iy",
        "outputId": "ef187e5e-ae82-4ebd-cf86-e0d9a8c0e739",
        "colab": {
          "base_uri": "https://localhost:8080/",
          "height": 1000
        }
      },
      "source": [
        "# Визуализация процесса обучения\n",
        "\n",
        "# Сохраним внешний вид нашей модели в файл \".png\"\n",
        "from tensorflow.keras.utils import plot_model\n",
        "plot_model(bigger_cnn_model, to_file='/content/drive/My Drive/Colab Notebooks/datasets/turn_mnist_gen/model.png')\n",
        "\n",
        "print(bigger_cnn_history.history['accuracy'])\n",
        "\n",
        "# Plot training & validation accuracy values\n",
        "plt.plot(bigger_cnn_history.history['accuracy'])\n",
        "plt.plot(bigger_cnn_history.history['val_accuracy'])\n",
        "plt.title('Model accuracy')\n",
        "plt.ylabel('Accuracy')\n",
        "plt.xlabel('Epoch')\n",
        "plt.legend(['Train', 'Test'], loc='upper left')\n",
        "\n",
        "fig, ax = plt.subplots()\n",
        "fig.savefig('/content/drive/My Drive/Colab Notebooks/datasets/turn_mnist_gen/accuracy_img.png')\n",
        "\n",
        "plt.show()\n",
        "\n",
        "\n",
        "\n",
        "\n",
        "# Plot training & validation loss values\n",
        "plt.plot(bigger_cnn_history.history['loss'])\n",
        "plt.plot(bigger_cnn_history.history['val_loss'])\n",
        "plt.title('Model loss')\n",
        "plt.ylabel('Loss')\n",
        "plt.xlabel('Epoch')\n",
        "plt.legend(['Train', 'Test'], loc='upper left')\n",
        "\n",
        "fig, ax = plt.subplots()\n",
        "fig.savefig('/content/drive/My Drive/Colab Notebooks/datasets/turn_mnist_gen/loss_img.png')\n",
        "\n",
        "plt.show()\n"
      ],
      "execution_count": 15,
      "outputs": [
        {
          "output_type": "stream",
          "text": [
            "[0.8993333578109741, 0.984666645526886, 0.9893333315849304, 0.9926666617393494, 0.9940000176429749, 0.9933333396911621, 0.9933333396911621, 0.9933333396911621, 0.9973333477973938, 0.9986666440963745]\n"
          ],
          "name": "stdout"
        },
        {
          "output_type": "display_data",
          "data": {
            "image/png": "[encoded data removed]",
            "text/plain": [
              "<Figure size 432x288 with 1 Axes>"
            ]
          },
          "metadata": {
            "tags": [],
            "needs_background": "light"
          }
        },
        {
          "output_type": "display_data",
          "data": {
            "image/png": "[encoded data removed]",
            "text/plain": [
              "<Figure size 432x288 with 1 Axes>"
            ]
          },
          "metadata": {
            "tags": [],
            "needs_background": "light"
          }
        },
        {
          "output_type": "display_data",
          "data": {
            "image/png": "[encoded data removed]",
            "text/plain": [
              "<Figure size 432x288 with 1 Axes>"
            ]
          },
          "metadata": {
            "tags": [],
            "needs_background": "light"
          }
        },
        {
          "output_type": "display_data",
          "data": {
            "image/png": "[encoded data removed]",
            "text/plain": [
              "<Figure size 432x288 with 1 Axes>"
            ]
          },
          "metadata": {
            "tags": [],
            "needs_background": "light"
          }
        }
      ]
    },
    {
      "cell_type": "code",
      "metadata": {
        "id": "1AiATtEMicel",
        "outputId": "f4b9dd25-8823-4cd1-b62b-a077167d6a23",
        "colab": {
          "base_uri": "https://localhost:8080/",
          "height": 90
        }
      },
      "source": [
        "# Добавим предсказание\n",
        "\n",
        "test = bigger_cnn_model.predict(X_test[28:30],verbose = 1)\n",
        "print(test)\n",
        "print(original_y_test[28:30])"
      ],
      "execution_count": 16,
      "outputs": [
        {
          "output_type": "stream",
          "text": [
            "1/1 [==============================] - 0s 4ms/step\n",
            "[[9.9961424e-01 3.8572590e-04]\n",
            " [3.2921253e-06 9.9999666e-01]]\n",
            "[0. 1.]\n"
          ],
          "name": "stdout"
        }
      ]
    },
    {
      "cell_type": "code",
      "metadata": {
        "id": "hAlGEXsblnb_",
        "outputId": "dc1d7d06-f688-4007-e5eb-e129dd7ad850",
        "colab": {
          "base_uri": "https://localhost:8080/",
          "height": 419
        }
      },
      "source": [
        "# Добавим вообще нарисованную нами цифру, вообще не из набора MNIST, на котором мы тренировали, а из оригинального набора MNIST\n",
        "\n",
        "# Считываем  из файла \".jpg\" наш тензор-изображение\n",
        "import cv2\n",
        "\n",
        "image_name = '0_1.jpg'\n",
        "\n",
        "imgorig = cv2.imread('/content/drive/My Drive/Colab Notebooks/datasets/turn_mnist_gen/' + image_name, cv2.IMREAD_COLOR)\n",
        "rgb_img = cv2.cvtColor(imgorig, cv2.COLOR_BGR2RGB) # Это и есть одна выборка\n",
        "\n",
        "# Даем ему форму Tensor-4D (т.к. функция predict() нашей натренированной модели принимает именно его на вход)\n",
        "rgb_img = rgb_img.reshape(1,IMG_HIGH, IMG_WEIGTH, IMG_COLOR_NUMBER)\n",
        "\n",
        "# Проверяем размерность\n",
        "print(rgb_img.shape)\n",
        "\n",
        "# Производим ту же самую предобработку, что и с тренировочным набором\n",
        "rgb_img = keras_backend.cast_to_floatx(rgb_img)\n",
        "rgb_img = np.interp(rgb_img, [0,255], [-1,1])\n",
        "\n",
        "test_our_image = bigger_cnn_model.predict_classes(rgb_img,verbose = 1)\n",
        "print('Our predict on (0_1.jpg) = ', test_our_image[0])\n",
        "\n",
        "\n",
        "image_name = '0_2.jpg'\n",
        "\n",
        "imgorig = cv2.imread('/content/drive/My Drive/Colab Notebooks/datasets/turn_mnist_gen/' + image_name, cv2.IMREAD_COLOR)\n",
        "rgb_img = cv2.cvtColor(imgorig, cv2.COLOR_BGR2RGB) # Это и есть одна выборка\n",
        "\n",
        "# Даем ему форму Tensor-4D (т.к. функция predict() нашей натренированной модели принимает именно его на вход)\n",
        "rgb_img = rgb_img.reshape(1,IMG_HIGH, IMG_WEIGTH, IMG_COLOR_NUMBER)\n",
        "\n",
        "# Проверяем размерность\n",
        "print(rgb_img.shape)\n",
        "\n",
        "# Производим ту же самую предобработку, что и с тренировочным набором\n",
        "rgb_img = keras_backend.cast_to_floatx(rgb_img)\n",
        "rgb_img = np.interp(rgb_img, [0,255], [-1,1])\n",
        "\n",
        "test_our_image = bigger_cnn_model.predict_classes(rgb_img,verbose = 1)\n",
        "print('Our predict on (0_2.jpg) = ', test_our_image[0])\n",
        "\n",
        "\n",
        "\n",
        "\n",
        "\n",
        "\n",
        "image_name = '0_3.jpg'\n",
        "\n",
        "imgorig = cv2.imread('/content/drive/My Drive/Colab Notebooks/datasets/turn_mnist_gen/' + image_name, cv2.IMREAD_COLOR)\n",
        "rgb_img = cv2.cvtColor(imgorig, cv2.COLOR_BGR2RGB) # Это и есть одна выборка\n",
        "\n",
        "# Даем ему форму Tensor-4D (т.к. функция predict() нашей натренированной модели принимает именно его на вход)\n",
        "rgb_img = rgb_img.reshape(1,IMG_HIGH, IMG_WEIGTH, IMG_COLOR_NUMBER)\n",
        "\n",
        "# Проверяем размерность\n",
        "print(rgb_img.shape)\n",
        "\n",
        "# Производим ту же самую предобработку, что и с тренировочным набором\n",
        "rgb_img = keras_backend.cast_to_floatx(rgb_img)\n",
        "rgb_img = np.interp(rgb_img, [0,255], [-1,1])\n",
        "\n",
        "test_our_image = bigger_cnn_model.predict_classes(rgb_img,verbose = 1)\n",
        "print('Our predict on (0_3.jpg) = ', test_our_image[0])\n",
        "\n",
        "\n",
        "\n",
        "\n",
        "\n",
        "\n",
        "\n",
        "image_name = '1_1.jpg'\n",
        "\n",
        "imgorig = cv2.imread('/content/drive/My Drive/Colab Notebooks/datasets/turn_mnist_gen/' + image_name, cv2.IMREAD_COLOR)\n",
        "rgb_img = cv2.cvtColor(imgorig, cv2.COLOR_BGR2RGB) # Это и есть одна выборка\n",
        "\n",
        "# Даем ему форму Tensor-4D (т.к. функция predict() нашей натренированной модели принимает именно его на вход)\n",
        "rgb_img = rgb_img.reshape(1,IMG_HIGH, IMG_WEIGTH, IMG_COLOR_NUMBER)\n",
        "\n",
        "# Проверяем размерность\n",
        "print(rgb_img.shape)\n",
        "\n",
        "# Производим ту же самую предобработку, что и с тренировочным набором\n",
        "rgb_img = keras_backend.cast_to_floatx(rgb_img)\n",
        "rgb_img = np.interp(rgb_img, [0,255], [-1,1])\n",
        "\n",
        "test_our_image = bigger_cnn_model.predict_classes(rgb_img,verbose = 1)\n",
        "print('Our predict on (1_1.jpg) =  = ', test_our_image[0])\n",
        "\n",
        "\n",
        "\n",
        "\n",
        "image_name = '1_2.jpg'\n",
        "\n",
        "imgorig = cv2.imread('/content/drive/My Drive/Colab Notebooks/datasets/turn_mnist_gen/' + image_name, cv2.IMREAD_COLOR)\n",
        "rgb_img = cv2.cvtColor(imgorig, cv2.COLOR_BGR2RGB) # Это и есть одна выборка\n",
        "\n",
        "# Даем ему форму Tensor-4D (т.к. функция predict() нашей натренированной модели принимает именно его на вход)\n",
        "rgb_img = rgb_img.reshape(1,IMG_HIGH, IMG_WEIGTH, IMG_COLOR_NUMBER)\n",
        "\n",
        "# Проверяем размерность\n",
        "print(rgb_img.shape)\n",
        "\n",
        "# Производим ту же самую предобработку, что и с тренировочным набором\n",
        "rgb_img = keras_backend.cast_to_floatx(rgb_img)\n",
        "rgb_img = np.interp(rgb_img, [0,255], [-1,1])\n",
        "\n",
        "test_our_image = bigger_cnn_model.predict_classes(rgb_img,verbose = 1)\n",
        "print('Our predict on (1_2.jpg) = ', test_our_image[0])\n",
        "\n",
        "\n",
        "\n",
        "\n",
        "\n",
        "\n",
        "image_name = '1_3.jpg'\n",
        "\n",
        "imgorig = cv2.imread('/content/drive/My Drive/Colab Notebooks/datasets/turn_mnist_gen/' + image_name, cv2.IMREAD_COLOR)\n",
        "rgb_img = cv2.cvtColor(imgorig, cv2.COLOR_BGR2RGB) # Это и есть одна выборка\n",
        "\n",
        "# Даем ему форму Tensor-4D (т.к. функция predict() нашей натренированной модели принимает именно его на вход)\n",
        "rgb_img = rgb_img.reshape(1,IMG_HIGH, IMG_WEIGTH, IMG_COLOR_NUMBER)\n",
        "\n",
        "# Проверяем размерность\n",
        "print(rgb_img.shape)\n",
        "\n",
        "# Производим ту же самую предобработку, что и с тренировочным набором\n",
        "rgb_img = keras_backend.cast_to_floatx(rgb_img)\n",
        "rgb_img = np.interp(rgb_img, [0,255], [-1,1])\n",
        "\n",
        "test_our_image = bigger_cnn_model.predict_classes(rgb_img,verbose = 1)\n",
        "print('Our predict on (1_3.jpg) = ', test_our_image[0])\n",
        "\n"
      ],
      "execution_count": 17,
      "outputs": [
        {
          "output_type": "stream",
          "text": [
            "(1, 32, 32, 3)\n",
            "WARNING:tensorflow:From <ipython-input-17-045a5cd2899f>:21: Sequential.predict_classes (from tensorflow.python.keras.engine.sequential) is deprecated and will be removed after 2021-01-01.\n",
            "Instructions for updating:\n",
            "Please use instead:* `np.argmax(model.predict(x), axis=-1)`,   if your model does multi-class classification   (e.g. if it uses a `softmax` last-layer activation).* `(model.predict(x) > 0.5).astype(\"int32\")`,   if your model does binary classification   (e.g. if it uses a `sigmoid` last-layer activation).\n",
            "1/1 [==============================] - 0s 4ms/step\n",
            "Our predict on (0_1.jpg) =  0\n",
            "(1, 32, 32, 3)\n",
            "1/1 [==============================] - 0s 2ms/step\n",
            "Our predict on (0_2.jpg) =  0\n",
            "(1, 32, 32, 3)\n",
            "1/1 [==============================] - 0s 1ms/step\n",
            "Our predict on (0_3.jpg) =  0\n",
            "(1, 32, 32, 3)\n",
            "1/1 [==============================] - 0s 4ms/step\n",
            "Our predict on (1_1.jpg) =  =  1\n",
            "(1, 32, 32, 3)\n",
            "1/1 [==============================] - 0s 2ms/step\n",
            "Our predict on (1_2.jpg) =  0\n",
            "(1, 32, 32, 3)\n",
            "1/1 [==============================] - 0s 2ms/step\n",
            "Our predict on (1_3.jpg) =  1\n"
          ],
          "name": "stdout"
        }
      ]
    },
    {
      "cell_type": "code",
      "metadata": {
        "id": "d37lWgwEH4l9",
        "outputId": "0ef840a6-961e-4b16-9ac9-77cd9d69a6dc",
        "colab": {
          "base_uri": "https://localhost:8080/",
          "height": 72
        }
      },
      "source": [
        "print(\"\\nРабота программы завершена.\\n\")"
      ],
      "execution_count": 18,
      "outputs": [
        {
          "output_type": "stream",
          "text": [
            "\n",
            "Работа программы завершена.\n",
            "\n"
          ],
          "name": "stdout"
        }
      ]
    }
  ]
}