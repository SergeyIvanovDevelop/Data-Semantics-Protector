{
  "nbformat": 4,
  "nbformat_minor": 0,
  "metadata": {
    "colab": {
      "name": "Evaluate_CNN_MNIST_Color_0_1.ipynb",
      "provenance": [],
      "collapsed_sections": []
    },
    "kernelspec": {
      "name": "python3",
      "display_name": "Python 3"
    },
    "accelerator": "GPU"
  },
  "cells": [
    {
      "cell_type": "code",
      "metadata": {
        "id": "BbeFjxoi4paP"
      },
      "source": [
        "import matplotlib.pyplot as plt\n",
        "import seaborn as sns\n",
        "import numpy as np\n",
        "sns.set(style=\"darkgrid\")"
      ],
      "execution_count": 1,
      "outputs": []
    },
    {
      "cell_type": "code",
      "metadata": {
        "id": "3TM0c3RU5EY7",
        "outputId": "475a3653-1ceb-4f61-b14f-3fedf6a0fa65",
        "colab": {
          "base_uri": "https://localhost:8080/",
          "height": 35
        }
      },
      "source": [
        "from google.colab import drive \n",
        "drive.mount('/content/drive/')"
      ],
      "execution_count": 2,
      "outputs": [
        {
          "output_type": "stream",
          "text": [
            "Drive already mounted at /content/drive/; to attempt to forcibly remount, call drive.mount(\"/content/drive/\", force_remount=True).\n"
          ],
          "name": "stdout"
        }
      ]
    },
    {
      "cell_type": "code",
      "metadata": {
        "id": "DfSfE12_7j2W"
      },
      "source": [
        "# Объявляем наши константы\n",
        "\n",
        "COUNT_VAR_IMG = 2000 # т.е. всего у нас будет 20 тысяч изображений\n",
        "IMG_HIGH = 32\n",
        "IMG_WEIGTH = 32\n",
        "IMG_COLOR_NUMBER = 3"
      ],
      "execution_count": 3,
      "outputs": []
    },
    {
      "cell_type": "code",
      "metadata": {
        "id": "IYxWaecK7vTv",
        "outputId": "073a63d7-a003-43e9-f866-06ba9670d567",
        "colab": {
          "base_uri": "https://localhost:8080/",
          "height": 35
        }
      },
      "source": [
        "# Создаем наш 4D-массив. Назовем его Tensor_4D\n",
        "Tensor_4D = np.zeros((COUNT_VAR_IMG, IMG_HIGH, IMG_WEIGTH, IMG_COLOR_NUMBER),)\n",
        "\n",
        "print(Tensor_4D.shape)"
      ],
      "execution_count": 4,
      "outputs": [
        {
          "output_type": "stream",
          "text": [
            "(2000, 32, 32, 3)\n"
          ],
          "name": "stdout"
        }
      ]
    },
    {
      "cell_type": "code",
      "metadata": {
        "id": "m2LaYScA7xhm",
        "outputId": "a2138d93-e404-44c4-b2c9-55c7443b17cb",
        "colab": {
          "base_uri": "https://localhost:8080/",
          "height": 35
        }
      },
      "source": [
        "# Создаем наш 2D-массив с метками классов (10 - это количество классов)\n",
        "Labels = np.zeros((COUNT_VAR_IMG,),)\n",
        "print(Labels.shape)"
      ],
      "execution_count": 5,
      "outputs": [
        {
          "output_type": "stream",
          "text": [
            "(2000,)\n"
          ],
          "name": "stdout"
        }
      ]
    },
    {
      "cell_type": "code",
      "metadata": {
        "id": "FNKL4Fja5IhI"
      },
      "source": [
        "# Считываем  из файла \".txt\" наш тензор\n",
        "\n",
        "f = open('/content/drive/My Drive/Colab Notebooks/datasets/turn_mnist_gen/data_set_real_data_E.txt', 'r')\n",
        "\n",
        "for s in range(COUNT_VAR_IMG):\n",
        "    for i in range(IMG_HIGH):\n",
        "        for j in range(IMG_WEIGTH):\n",
        "            for c in range(IMG_COLOR_NUMBER):\n",
        "                Tensor_4D[s][i][j][c] = np.float(f.readline())\n",
        "\n",
        "f.close()\n"
      ],
      "execution_count": 6,
      "outputs": []
    },
    {
      "cell_type": "code",
      "metadata": {
        "id": "V-MjvOLb7_d0"
      },
      "source": [
        "# Считаем метки из файл формата .txt\n",
        "f = open('/content/drive/My Drive/Colab Notebooks/datasets/turn_mnist_gen/data_set_real_labels_E.txt', 'r')\n",
        "\n",
        "for s in range(COUNT_VAR_IMG):\n",
        "    Labels[s] = np.float(f.readline())\n",
        "\n",
        "f.close()"
      ],
      "execution_count": 7,
      "outputs": []
    },
    {
      "cell_type": "code",
      "metadata": {
        "id": "H7y3yvda8J-K"
      },
      "source": [
        "# Т.к. у нас есть только тестовый набор данных, то нужно воспользоваться библиотекой sklearn для разбиения одного набора данных на обучающий и тестовый\n",
        "\n",
        "from sklearn.model_selection import train_test_split\n",
        "X_train, X_test, y_train, y_test = train_test_split(Tensor_4D, Labels, test_size = 0.25)\n"
      ],
      "execution_count": 8,
      "outputs": []
    },
    {
      "cell_type": "code",
      "metadata": {
        "id": "Vo2_ySxj-wb9"
      },
      "source": [
        "# Исправление типа данных на те, которые ожидает Keras (floatx)\n",
        "from keras import backend as keras_backend\n",
        "X_train = keras_backend.cast_to_floatx(X_train)\n",
        "X_test = keras_backend.cast_to_floatx(X_test)"
      ],
      "execution_count": 9,
      "outputs": []
    },
    {
      "cell_type": "code",
      "metadata": {
        "id": "HHcpk6qK9jqB"
      },
      "source": [
        "# Необходимо провести масштабирование (нормализацию) наших данных\n",
        "\n",
        "# Масштабирование наших пикселей из [0,255] в [-1,1]\n",
        "X_train = np.interp(X_train, [0,255], [-1,1])\n",
        "X_test = np.interp(X_test, [0,255], [-1,1])\n",
        "\n",
        "# Необходимо узнать сколько у нас всего классов (хоть мы и знаем, что их 10, лучше делать следующим образом)\n",
        "number_of_classes = 1 + max(np.append(y_train, y_test))\n",
        "\n",
        "# Сохранение оригинальных y_train и y_test\n",
        "original_y_train = y_train\n",
        "original_y_test = y_test\n",
        "\n",
        "# Кодирование каждого списка в массивы индивидуальных параметров\n",
        "from keras.utils import to_categorical\n",
        "y_train = to_categorical (y_train, num_classes = int(number_of_classes))\n",
        "y_test = to_categorical (y_test, num_classes = int(number_of_classes))\n",
        "\n",
        "\n",
        "# Теперь наши данные готовы к отправле в CNN Keras"
      ],
      "execution_count": 10,
      "outputs": []
    },
    {
      "cell_type": "code",
      "metadata": {
        "id": "AB-QjbIXBgwW"
      },
      "source": [
        "from tensorflow.python.keras.layers import Dense, Dropout, Activation, Flatten\n",
        "from tensorflow.python.keras import Sequential\n",
        "from tensorflow.python.keras.layers.convolutional import Conv2D, MaxPooling2D\n",
        "from tensorflow.python.keras.constraints import maxnorm\n",
        "from tensorflow.keras.optimizers import Adam, SGD, RMSprop\n",
        "from tensorflow.python.keras.utils import np_utils\n",
        "from tensorflow.python.keras.preprocessing.image import ImageDataGenerator\n",
        "from keras.models import load_model\n"
      ],
      "execution_count": 11,
      "outputs": []
    },
    {
      "cell_type": "code",
      "metadata": {
        "id": "WcCTPa7VIgue",
        "outputId": "a0b2c23b-9f55-4330-c10e-488d6006f28f",
        "colab": {
          "base_uri": "https://localhost:8080/",
          "height": 54
        }
      },
      "source": [
        "# Оценка модель\n",
        "path_to_classificator = \"/content/drive/My Drive/Colab Notebooks/datasets/turn_mnist_gen/my_model.h5\"\n",
        "classificator = load_model(path_to_classificator)\n",
        "results = classificator.evaluate(X_train, y_train, batch_size=32)\n",
        "print('Evaluate on real \"2\" and \"3\" --> Loss, Accuracy:', results)\n"
      ],
      "execution_count": 12,
      "outputs": [
        {
          "output_type": "stream",
          "text": [
            "47/47 [==============================] - 0s 3ms/step - loss: 0.3592 - accuracy: 0.9440\n",
            "Evaluate on real \"2\" and \"3\" --> Loss, Accuracy: [0.35924527049064636, 0.9440000057220459]\n"
          ],
          "name": "stdout"
        }
      ]
    },
    {
      "cell_type": "code",
      "metadata": {
        "id": "d37lWgwEH4l9",
        "outputId": "fca7b836-3d21-4dfc-9319-58aceec6c12d",
        "colab": {
          "base_uri": "https://localhost:8080/",
          "height": 72
        }
      },
      "source": [
        "print(\"\\nРабота программы завершена.\\n\")"
      ],
      "execution_count": 13,
      "outputs": [
        {
          "output_type": "stream",
          "text": [
            "\n",
            "Работа программы завершена.\n",
            "\n"
          ],
          "name": "stdout"
        }
      ]
    }
  ]
}